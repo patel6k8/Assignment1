{
 "cells": [
  {
   "cell_type": "markdown",
   "metadata": {},
   "source": [
    "# Instagram-like App Demonstration\n",
    "\n",
    "This notebook demonstrates the functionality of our Instagram-like app, including user creation, posting, commenting, liking, following, and deleting operations."
   ]
  },
  {
   "cell_type": "code",
   "execution_count": 1,
   "metadata": {},
   "outputs": [],
   "source": [
    "# Import the necessary classes\n",
    "from instamimic import InstaMimicApp\n",
    "from user import User\n",
    "from post import Post\n",
    "from comment import Comment\n",
    "\n",
    "# Create an instance of the InstagramApp\n",
    "app = InstaMimicApp()"
   ]
  },
  {
   "cell_type": "markdown",
   "metadata": {},
   "source": [
    "## 1. Creating Users"
   ]
  },
  {
   "cell_type": "code",
   "execution_count": 2,
   "metadata": {},
   "outputs": [
    {
     "name": "stdout",
     "output_type": "stream",
     "text": [
      "Number of users: 5\n"
     ]
    }
   ],
   "source": [
    "alice = app.create_user(\"alice\", \"alice@example.com\")\n",
    "bob = app.create_user(\"bob\", \"bob@example.com\")\n",
    "charlie = app.create_user(\"charlie\", \"charlie@example.com\")\n",
    "david = app.create_user(\"david\", \"david@example.com\")\n",
    "eve = app.create_user(\"eve\", \"eve@example.com\")\n",
    "\n",
    "print(f\"Number of users: {User.get_user_count()}\")"
   ]
  },
  {
   "cell_type": "markdown",
   "metadata": {},
   "source": [
    "## 2. Creating Posts"
   ]
  },
  {
   "cell_type": "code",
   "execution_count": 3,
   "metadata": {},
   "outputs": [
    {
     "name": "stdout",
     "output_type": "stream",
     "text": [
      "Number of posts: 3\n",
      "Alice's post content: Hello, Instagram!\n",
      "Alice's post tags: {'excited', 'firstpost'}\n"
     ]
    }
   ],
   "source": [
    "alice_post = app.create_post(alice, \"Hello, Instagram!\", [\"firstpost\", \"excited\"])\n",
    "bob_post = app.create_post(bob, \"Python is awesome!\", [\"python\", \"coding\"])\n",
    "charlie_post = app.create_post(charlie, \"Beautiful sunset today\", [\"nature\", \"photography\"])\n",
    "\n",
    "print(f\"Number of posts: {Post.get_post_count()}\")\n",
    "print(f\"Alice's post content: {alice_post.content}\")\n",
    "print(f\"Alice's post tags: {alice_post.tags}\")"
   ]
  },
  {
   "cell_type": "markdown",
   "metadata": {},
   "source": [
    "## 3. Liking Posts"
   ]
  },
  {
   "cell_type": "code",
   "execution_count": 4,
   "metadata": {},
   "outputs": [
    {
     "name": "stdout",
     "output_type": "stream",
     "text": [
      "Likes on Alice's post: 3\n",
      "Likes on Bob's post: 1\n"
     ]
    }
   ],
   "source": [
    "app.like_post(bob, alice_post)\n",
    "app.like_post(charlie, alice_post)\n",
    "app.like_post(david, alice_post)\n",
    "app.like_post(eve, bob_post)\n",
    "\n",
    "print(f\"Likes on Alice's post: {len(alice_post.liked_by)}\")\n",
    "print(f\"Likes on Bob's post: {len(bob_post.liked_by)}\")"
   ]
  },
  {
   "cell_type": "markdown",
   "metadata": {},
   "source": [
    "## 4. Commenting on Posts"
   ]
  },
  {
   "cell_type": "code",
   "execution_count": 5,
   "metadata": {},
   "outputs": [
    {
     "name": "stdout",
     "output_type": "stream",
     "text": [
      "Number of comments: 3\n",
      "Comments on Alice's post: 2\n",
      "Bob's comment content: Welcome to Instagram!\n"
     ]
    }
   ],
   "source": [
    "bob_comment = app.comment_on_post(bob, alice_post, \"Welcome to Instagram!\")\n",
    "charlie_comment = app.comment_on_post(charlie, alice_post, \"Great first post!\")\n",
    "david_comment = app.comment_on_post(david, bob_post, \"I love Python too!\")\n",
    "\n",
    "print(f\"Number of comments: {Comment.get_comment_count()}\")\n",
    "print(f\"Comments on Alice's post: {len(alice_post._comments)}\")\n",
    "print(f\"Bob's comment content: {bob_comment.content}\")"
   ]
  },
  {
   "cell_type": "markdown",
   "metadata": {},
   "source": [
    "## 5. Liking Comments"
   ]
  },
  {
   "cell_type": "code",
   "execution_count": 6,
   "metadata": {},
   "outputs": [
    {
     "name": "stdout",
     "output_type": "stream",
     "text": [
      "Likes on Bob's comment: 2\n",
      "Likes on Charlie's comment: 1\n"
     ]
    }
   ],
   "source": [
    "app.like_comment(alice, bob_comment)\n",
    "app.like_comment(eve, bob_comment)\n",
    "app.like_comment(alice, charlie_comment)\n",
    "\n",
    "print(f\"Likes on Bob's comment: {len(bob_comment._liked_by)}\")\n",
    "print(f\"Likes on Charlie's comment: {len(charlie_comment._liked_by)}\")"
   ]
  },
  {
   "cell_type": "markdown",
   "metadata": {},
   "source": [
    "## 6. Following Users"
   ]
  },
  {
   "cell_type": "code",
   "execution_count": 7,
   "metadata": {},
   "outputs": [
    {
     "name": "stdout",
     "output_type": "stream",
     "text": [
      "Alice's followers: 3\n",
      "Bob's followers: 2\n",
      "Users Alice is following: 1\n"
     ]
    }
   ],
   "source": [
    "app.follow_user(bob, alice)\n",
    "app.follow_user(charlie, alice)\n",
    "app.follow_user(david, alice)\n",
    "app.follow_user(eve, bob)\n",
    "app.follow_user(alice, bob)\n",
    "\n",
    "print(f\"Alice's followers: {len(alice.followers)}\")\n",
    "print(f\"Bob's followers: {len(bob.followers)}\")\n",
    "print(f\"Users Alice is following: {len(alice.following)}\")"
   ]
  },
  {
   "cell_type": "markdown",
   "metadata": {},
   "source": [
    "## 7. Unfollowing Users"
   ]
  },
  {
   "cell_type": "code",
   "execution_count": 8,
   "metadata": {},
   "outputs": [
    {
     "name": "stdout",
     "output_type": "stream",
     "text": [
      "Alice's followers after David unfollowed: 2\n"
     ]
    }
   ],
   "source": [
    "app.unfollow_user(david, alice)\n",
    "\n",
    "print(f\"Alice's followers after David unfollowed: {len(alice.followers)}\")"
   ]
  },
  {
   "cell_type": "markdown",
   "metadata": {},
   "source": [
    "## 8. Unliking Posts and Comments"
   ]
  },
  {
   "cell_type": "code",
   "execution_count": 9,
   "metadata": {},
   "outputs": [
    {
     "name": "stdout",
     "output_type": "stream",
     "text": [
      "Likes on Alice's post after Charlie unliked: 2\n",
      "Likes on Bob's comment after Alice unliked: 1\n"
     ]
    }
   ],
   "source": [
    "app.unlike_post(charlie, alice_post)\n",
    "app.unlike_comment(alice, bob_comment)\n",
    "\n",
    "print(f\"Likes on Alice's post after Charlie unliked: {len(alice_post.liked_by)}\")\n",
    "print(f\"Likes on Bob's comment after Alice unliked: {len(bob_comment._liked_by)}\")"
   ]
  },
  {
   "cell_type": "markdown",
   "metadata": {},
   "source": [
    "## 9. Deleting Comments"
   ]
  },
  {
   "cell_type": "code",
   "execution_count": 10,
   "metadata": {},
   "outputs": [
    {
     "name": "stdout",
     "output_type": "stream",
     "text": [
      "Comments on Alice's post after deletion: 1\n",
      "Total number of comments: 2\n"
     ]
    }
   ],
   "source": [
    "app.delete_comment(charlie, alice_post, charlie_comment)\n",
    "\n",
    "print(f\"Comments on Alice's post after deletion: {len(alice_post._comments)}\")\n",
    "print(f\"Total number of comments: {Comment.get_comment_count()}\")"
   ]
  },
  {
   "cell_type": "markdown",
   "metadata": {},
   "source": [
    "## 10. Deleting Posts"
   ]
  },
  {
   "cell_type": "code",
   "execution_count": 11,
   "metadata": {},
   "outputs": [
    {
     "name": "stdout",
     "output_type": "stream",
     "text": [
      "Total number of posts after deletion: 2\n",
      "Bob's posts: 0\n"
     ]
    }
   ],
   "source": [
    "app.delete_post(bob, bob_post)\n",
    "\n",
    "print(f\"Total number of posts after deletion: {Post.get_post_count()}\")\n",
    "print(f\"Bob's posts: {len(bob.posts)}\")"
   ]
  },
  {
   "cell_type": "markdown",
   "metadata": {},
   "source": [
    "## 11. Checking Final State"
   ]
  },
  {
   "cell_type": "code",
   "execution_count": 12,
   "metadata": {},
   "outputs": [
    {
     "name": "stdout",
     "output_type": "stream",
     "text": [
      "Total users: 5\n",
      "Total posts: 2\n",
      "Total comments: 1\n",
      "Alice's followers: 2\n",
      "Bob's followers: 2\n"
     ]
    }
   ],
   "source": [
    "print(f\"Total users: {User.get_user_count()}\")\n",
    "print(f\"Total posts: {Post.get_post_count()}\")\n",
    "print(f\"Total comments: {Comment.get_comment_count()}\")\n",
    "print(f\"Alice's followers: {len(alice.followers)}\")\n",
    "print(f\"Bob's followers: {len(bob.followers)}\")"
   ]
  }
 ],
 "metadata": {
  "kernelspec": {
   "display_name": "Python 3",
   "language": "python",
   "name": "python3"
  },
  "language_info": {
   "codemirror_mode": {
    "name": "ipython",
    "version": 3
   },
   "file_extension": ".py",
   "mimetype": "text/x-python",
   "name": "python",
   "nbconvert_exporter": "python",
   "pygments_lexer": "ipython3",
   "version": "3.12.6"
  }
 },
 "nbformat": 4,
 "nbformat_minor": 2
}
